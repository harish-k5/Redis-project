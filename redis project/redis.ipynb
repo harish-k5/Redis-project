{
 "cells": [
  {
   "cell_type": "code",
   "execution_count": null,
   "id": "684ed61e",
   "metadata": {},
   "outputs": [
    {
     "name": "stdout",
     "output_type": "stream",
     "text": [
      "Value from Redis: Hello from VS Code!\n"
     ]
    }
   ],
   "source": [
    "import redis\n",
    "\n",
    "# Connect to Redis\n",
    "r = redis.Redis(host='localhost', port=6379, db=0)\n",
    "\n",
    "# Test connection\n",
    "try:\n",
    "    r.set('test_key', 'Hello from VS Code!')\n",
    "    value = r.get('test_key')\n",
    "    print(\"Value from Redis:\", value.decode())\n",
    "except Exception as e:\n",
    "    print(\"Redis connection failed:\", e)\n"
   ]
  },
  {
   "cell_type": "code",
   "execution_count": 11,
   "id": "04077acd",
   "metadata": {},
   "outputs": [
    {
     "name": "stdout",
     "output_type": "stream",
     "text": [
      "✅ 10 users inserted.\n",
      "\n",
      "User 3 data:\n",
      "name: Priya\n",
      "age: 23\n",
      "course: MCA\n",
      "city: Mumbai\n",
      "marks: 88\n",
      "\n",
      "Updated marks for user 3.\n",
      "Deleted user 10.\n"
     ]
    }
   ],
   "source": [
    "import redis\n",
    "\n",
    "# Connect to Redis\n",
    "r = redis.Redis(host='localhost', port=6379, db=0)\n",
    "\n",
    "# ------------------ Create (Insert) ------------------\n",
    "\n",
    "# Sample data for 10 users\n",
    "users = {\n",
    "    1: {\"name\": \"Abish\", \"age\": \"22\", \"course\": \"MCA\", \"city\": \"Chennai\", \"marks\": \"85\"},\n",
    "    2: {\"name\": \"John\", \"age\": \"21\", \"course\": \"MCA\", \"city\": \"Delhi\", \"marks\": \"78\"},\n",
    "    3: {\"name\": \"Priya\", \"age\": \"23\", \"course\": \"MCA\", \"city\": \"Mumbai\", \"marks\": \"88\"},\n",
    "    4: {\"name\": \"Kiran\", \"age\": \"20\", \"course\": \"MCA\", \"city\": \"Hyderabad\", \"marks\": \"90\"},\n",
    "    5: {\"name\": \"Meena\", \"age\": \"22\", \"course\": \"MCA\", \"city\": \"Pune\", \"marks\": \"81\"},\n",
    "    6: {\"name\": \"Raj\", \"age\": \"21\", \"course\": \"MCA\", \"city\": \"Bangalore\", \"marks\": \"77\"},\n",
    "    7: {\"name\": \"Asha\", \"age\": \"24\", \"course\": \"MCA\", \"city\": \"Kolkata\", \"marks\": \"93\"},\n",
    "    8: {\"name\": \"Vikram\", \"age\": \"22\", \"course\": \"MCA\", \"city\": \"Jaipur\", \"marks\": \"79\"},\n",
    "    9: {\"name\": \"Sneha\", \"age\": \"23\", \"course\": \"MCA\", \"city\": \"Ahmedabad\", \"marks\": \"84\"},\n",
    "    10: {\"name\": \"Ravi\", \"age\": \"21\", \"course\": \"MCA\", \"city\": \"Lucknow\", \"marks\": \"86\"},\n",
    "}\n",
    "\n",
    "# Insert all users\n",
    "for uid, info in users.items():\n",
    "    r.hset(f\"user:{uid}\", mapping=info)\n",
    "\n",
    "print(\"✅ 10 users inserted.\")\n",
    "\n",
    "# ------------------ Read (Retrieve) ------------------\n",
    "\n",
    "# Get one user\n",
    "user_id = 3\n",
    "user_data = r.hgetall(f\"user:{user_id}\")\n",
    "print(f\"\\nUser {user_id} data:\")\n",
    "for key, val in user_data.items():\n",
    "    print(f\"{key.decode()}: {val.decode()}\")\n",
    "\n",
    "# ------------------ Update ------------------\n",
    "\n",
    "# Update marks for user 3\n",
    "r.hset(\"user:3\", \"marks\", 95)\n",
    "print(\"\\nUpdated marks for user 3.\")\n",
    "\n",
    "# ------------------ Delete ------------------\n",
    "\n",
    "# Delete user 10\n",
    "r.delete(\"user:10\")\n",
    "print(\"Deleted user 10.\")"
   ]
  },
  {
   "cell_type": "code",
   "execution_count": null,
   "id": "1edf51f1",
   "metadata": {},
   "outputs": [],
   "source": []
  }
 ],
 "metadata": {
  "kernelspec": {
   "display_name": "Python 3",
   "language": "python",
   "name": "python3"
  },
  "language_info": {
   "codemirror_mode": {
    "name": "ipython",
    "version": 3
   },
   "file_extension": ".py",
   "mimetype": "text/x-python",
   "name": "python",
   "nbconvert_exporter": "python",
   "pygments_lexer": "ipython3",
   "version": "3.12.6"
  }
 },
 "nbformat": 4,
 "nbformat_minor": 5
}
